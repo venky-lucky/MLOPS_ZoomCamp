{
 "cells": [
  {
   "cell_type": "markdown",
   "metadata": {},
   "source": [
    "# MLOps Zoomcamp 2023"
   ]
  },
  {
   "cell_type": "code",
   "execution_count": 10,
   "metadata": {},
   "outputs": [],
   "source": [
    "import pandas as pd"
   ]
  },
  {
   "cell_type": "markdown",
   "metadata": {},
   "source": [
    "## Q1 Human-readable name\n",
    "\n",
    "You'd like to give the first task, `read_data` a nicely formatted name. How can you specify a task name?\n",
    "\n",
    "Hint: look in the docs at [https://docs.prefect.io](https://docs.prefect.io) or check out the doc string in a code editor.\n",
    "\n",
    "* (X) `@task(retries=3, retry_delay_seconds=2, name=\"Read taxi data\")`\n",
    "* ( ) `@task(retries=3, retry_delay_seconds=2, task_name=\"Read taxi data\")`\n",
    "* ( ) `@task(retries=3, retry_delay_seconds=2, task-name=\"Read taxi data\")`\n",
    "* ( ) `@task(retries=3, retry_delay_seconds=2, task_name_function=lambda x: f\"Read taxi data\")`"
   ]
  },
  {
   "cell_type": "code",
   "execution_count": 12,
   "metadata": {},
   "outputs": [
    {
     "name": "stdout",
     "output_type": "stream",
     "text": [
      "Requirement already satisfied: prefect in c:\\users\\jobiak\\anaconda3\\lib\\site-packages (2.10.13)\n",
      "Requirement already satisfied: cryptography>=36.0.1 in c:\\users\\jobiak\\anaconda3\\lib\\site-packages (from prefect) (38.0.1)\n",
      "Requirement already satisfied: readchar>=4.0.0 in c:\\users\\jobiak\\anaconda3\\lib\\site-packages (from prefect) (4.0.5)\n",
      "Requirement already satisfied: coolname>=1.0.4 in c:\\users\\jobiak\\anaconda3\\lib\\site-packages (from prefect) (2.2.0)\n",
      "Requirement already satisfied: typing-extensions>=4.1.0 in c:\\users\\jobiak\\anaconda3\\lib\\site-packages (from prefect) (4.6.3)\n",
      "Requirement already satisfied: pendulum>=2.1.2 in c:\\users\\jobiak\\anaconda3\\lib\\site-packages (from prefect) (2.1.2)\n",
      "Requirement already satisfied: pathspec>=0.8.0 in c:\\users\\jobiak\\anaconda3\\lib\\site-packages (from prefect) (0.11.1)\n",
      "Requirement already satisfied: alembic>=1.7.5 in c:\\users\\jobiak\\anaconda3\\lib\\site-packages (from prefect) (1.11.1)\n",
      "Requirement already satisfied: aiosqlite>=0.17.0 in c:\\users\\jobiak\\anaconda3\\lib\\site-packages (from prefect) (0.19.0)\n",
      "Requirement already satisfied: pytz>=2021.1 in c:\\users\\jobiak\\anaconda3\\lib\\site-packages (from prefect) (2021.3)\n",
      "Requirement already satisfied: fsspec>=2022.5.0 in c:\\users\\jobiak\\anaconda3\\lib\\site-packages (from prefect) (2023.6.0)\n",
      "Requirement already satisfied: websockets>=10.4 in c:\\users\\jobiak\\anaconda3\\lib\\site-packages (from prefect) (11.0.3)\n",
      "Requirement already satisfied: importlib-metadata>=4.4 in c:\\users\\jobiak\\anaconda3\\lib\\site-packages (from prefect) (6.6.0)\n",
      "Requirement already satisfied: httpx[http2]!=0.23.2,>=0.23 in c:\\users\\jobiak\\anaconda3\\lib\\site-packages (from prefect) (0.24.1)\n",
      "Requirement already satisfied: jsonpatch>=1.32 in c:\\users\\jobiak\\anaconda3\\lib\\site-packages (from prefect) (1.32)\n",
      "Requirement already satisfied: apprise>=1.1.0 in c:\\users\\jobiak\\anaconda3\\lib\\site-packages (from prefect) (1.4.0)\n",
      "Requirement already satisfied: asgi-lifespan>=1.0 in c:\\users\\jobiak\\anaconda3\\lib\\site-packages (from prefect) (2.1.0)\n",
      "Requirement already satisfied: packaging>=21.3 in c:\\users\\jobiak\\anaconda3\\lib\\site-packages (from prefect) (21.3)\n",
      "Requirement already satisfied: griffe>=0.20.0 in c:\\users\\jobiak\\anaconda3\\lib\\site-packages (from prefect) (0.29.0)\n",
      "Requirement already satisfied: pyyaml>=5.4.1 in c:\\users\\jobiak\\anaconda3\\lib\\site-packages (from prefect) (6.0)\n",
      "Requirement already satisfied: dateparser>=1.1.1 in c:\\users\\jobiak\\anaconda3\\lib\\site-packages (from prefect) (1.1.8)\n",
      "Requirement already satisfied: jsonschema<5.0.0,>=3.2.0 in c:\\users\\jobiak\\anaconda3\\lib\\site-packages (from prefect) (4.4.0)\n",
      "Requirement already satisfied: typer>=0.4.2 in c:\\users\\jobiak\\anaconda3\\lib\\site-packages (from prefect) (0.4.2)\n",
      "Requirement already satisfied: uvicorn>=0.14.0 in c:\\users\\jobiak\\anaconda3\\lib\\site-packages (from prefect) (0.22.0)\n",
      "Requirement already satisfied: python-slugify>=5.0 in c:\\users\\jobiak\\anaconda3\\lib\\site-packages (from prefect) (5.0.2)\n",
      "Requirement already satisfied: rich>=11.0 in c:\\users\\jobiak\\anaconda3\\lib\\site-packages (from prefect) (13.4.1)\n",
      "Requirement already satisfied: fastapi>=0.93 in c:\\users\\jobiak\\anaconda3\\lib\\site-packages (from prefect) (0.97.0)\n",
      "Requirement already satisfied: orjson>=3.7 in c:\\users\\jobiak\\anaconda3\\lib\\site-packages (from prefect) (3.9.1)\n",
      "Requirement already satisfied: anyio>=3.4.0 in c:\\users\\jobiak\\anaconda3\\lib\\site-packages (from prefect) (3.5.0)\n",
      "Requirement already satisfied: kubernetes>=24.2.0 in c:\\users\\jobiak\\anaconda3\\lib\\site-packages (from prefect) (26.1.0)\n",
      "Requirement already satisfied: asyncpg>=0.23 in c:\\users\\jobiak\\anaconda3\\lib\\site-packages (from prefect) (0.27.0)\n",
      "Requirement already satisfied: pydantic>=1.10.0 in c:\\users\\jobiak\\anaconda3\\lib\\site-packages (from prefect) (1.10.9)\n",
      "Requirement already satisfied: sqlalchemy[asyncio]!=1.4.33,>=1.4.22 in c:\\users\\jobiak\\anaconda3\\lib\\site-packages (from prefect) (1.4.32)\n",
      "Requirement already satisfied: toml>=0.10.0 in c:\\users\\jobiak\\anaconda3\\lib\\site-packages (from prefect) (0.10.2)\n",
      "Requirement already satisfied: docker>=4.0 in c:\\users\\jobiak\\anaconda3\\lib\\site-packages (from prefect) (6.1.2)\n",
      "Requirement already satisfied: jinja2>=3.0.0 in c:\\users\\jobiak\\anaconda3\\lib\\site-packages (from prefect) (3.1.2)\n",
      "Requirement already satisfied: cloudpickle>=2.0 in c:\\users\\jobiak\\anaconda3\\lib\\site-packages (from prefect) (2.0.0)\n",
      "Requirement already satisfied: click<8.2,>=8.0 in c:\\users\\jobiak\\anaconda3\\lib\\site-packages (from prefect) (8.1.3)\n",
      "Requirement already satisfied: croniter>=1.0.12 in c:\\users\\jobiak\\anaconda3\\lib\\site-packages (from prefect) (1.3.15)\n",
      "Requirement already satisfied: Mako in c:\\users\\jobiak\\anaconda3\\lib\\site-packages (from alembic>=1.7.5->prefect) (1.2.4)\n",
      "Requirement already satisfied: sniffio>=1.1 in c:\\users\\jobiak\\anaconda3\\lib\\site-packages (from anyio>=3.4.0->prefect) (1.2.0)\n",
      "Requirement already satisfied: idna>=2.8 in c:\\users\\jobiak\\anaconda3\\lib\\site-packages (from anyio>=3.4.0->prefect) (3.3)\n",
      "Requirement already satisfied: markdown in c:\\users\\jobiak\\anaconda3\\lib\\site-packages (from apprise>=1.1.0->prefect) (3.3.4)\n",
      "Requirement already satisfied: requests in c:\\users\\jobiak\\anaconda3\\lib\\site-packages (from apprise>=1.1.0->prefect) (2.27.1)\n",
      "Requirement already satisfied: certifi in c:\\users\\jobiak\\anaconda3\\lib\\site-packages (from apprise>=1.1.0->prefect) (2021.10.8)\n",
      "Requirement already satisfied: requests-oauthlib in c:\\users\\jobiak\\anaconda3\\lib\\site-packages (from apprise>=1.1.0->prefect) (1.3.1)\n",
      "Requirement already satisfied: colorama in c:\\users\\jobiak\\anaconda3\\lib\\site-packages (from click<8.2,>=8.0->prefect) (0.4.4)\n",
      "Requirement already satisfied: python-dateutil in c:\\users\\jobiak\\anaconda3\\lib\\site-packages (from croniter>=1.0.12->prefect) (2.8.2)\n",
      "Requirement already satisfied: cffi>=1.12 in c:\\users\\jobiak\\anaconda3\\lib\\site-packages (from cryptography>=36.0.1->prefect) (1.15.0)\n",
      "Requirement already satisfied: pycparser in c:\\users\\jobiak\\anaconda3\\lib\\site-packages (from cffi>=1.12->cryptography>=36.0.1->prefect) (2.21)\n",
      "Requirement already satisfied: regex!=2019.02.19,!=2021.8.27 in c:\\users\\jobiak\\anaconda3\\lib\\site-packages (from dateparser>=1.1.1->prefect) (2022.3.15)\n",
      "Requirement already satisfied: tzlocal in c:\\users\\jobiak\\anaconda3\\lib\\site-packages (from dateparser>=1.1.1->prefect) (5.0.1)\n",
      "Requirement already satisfied: websocket-client>=0.32.0 in c:\\users\\jobiak\\anaconda3\\lib\\site-packages (from docker>=4.0->prefect) (0.58.0)\n",
      "Requirement already satisfied: pywin32>=304 in c:\\users\\jobiak\\anaconda3\\lib\\site-packages (from docker>=4.0->prefect) (306)\n",
      "Requirement already satisfied: urllib3>=1.26.0 in c:\\users\\jobiak\\anaconda3\\lib\\site-packages (from docker>=4.0->prefect) (1.26.9)\n",
      "Requirement already satisfied: starlette<0.28.0,>=0.27.0 in c:\\users\\jobiak\\anaconda3\\lib\\site-packages (from fastapi>=0.93->prefect) (0.27.0)\n",
      "Requirement already satisfied: httpcore<0.18.0,>=0.15.0 in c:\\users\\jobiak\\anaconda3\\lib\\site-packages (from httpx[http2]!=0.23.2,>=0.23->prefect) (0.17.2)\n",
      "Requirement already satisfied: h2<5,>=3 in c:\\users\\jobiak\\anaconda3\\lib\\site-packages (from httpx[http2]!=0.23.2,>=0.23->prefect) (4.1.0)\n",
      "Requirement already satisfied: hyperframe<7,>=6.0 in c:\\users\\jobiak\\anaconda3\\lib\\site-packages (from h2<5,>=3->httpx[http2]!=0.23.2,>=0.23->prefect) (6.0.1)\n",
      "Requirement already satisfied: hpack<5,>=4.0 in c:\\users\\jobiak\\anaconda3\\lib\\site-packages (from h2<5,>=3->httpx[http2]!=0.23.2,>=0.23->prefect) (4.0.0)\n",
      "Requirement already satisfied: h11<0.15,>=0.13 in c:\\users\\jobiak\\anaconda3\\lib\\site-packages (from httpcore<0.18.0,>=0.15.0->httpx[http2]!=0.23.2,>=0.23->prefect) (0.14.0)\n",
      "Requirement already satisfied: zipp>=0.5 in c:\\users\\jobiak\\anaconda3\\lib\\site-packages (from importlib-metadata>=4.4->prefect) (3.7.0)\n",
      "Requirement already satisfied: MarkupSafe>=2.0 in c:\\users\\jobiak\\anaconda3\\lib\\site-packages (from jinja2>=3.0.0->prefect) (2.1.1)\n",
      "Requirement already satisfied: jsonpointer>=1.9 in c:\\users\\jobiak\\anaconda3\\lib\\site-packages (from jsonpatch>=1.32->prefect) (2.3)\n",
      "Requirement already satisfied: attrs>=17.4.0 in c:\\users\\jobiak\\anaconda3\\lib\\site-packages (from jsonschema<5.0.0,>=3.2.0->prefect) (21.4.0)\n",
      "Requirement already satisfied: pyrsistent!=0.17.0,!=0.17.1,!=0.17.2,>=0.14.0 in c:\\users\\jobiak\\anaconda3\\lib\\site-packages (from jsonschema<5.0.0,>=3.2.0->prefect) (0.18.0)\n",
      "Requirement already satisfied: setuptools>=21.0.0 in c:\\users\\jobiak\\anaconda3\\lib\\site-packages (from kubernetes>=24.2.0->prefect) (61.2.0)\n",
      "Requirement already satisfied: google-auth>=1.0.1 in c:\\users\\jobiak\\anaconda3\\lib\\site-packages (from kubernetes>=24.2.0->prefect) (1.33.0)\n",
      "Requirement already satisfied: six>=1.9.0 in c:\\users\\jobiak\\anaconda3\\lib\\site-packages (from kubernetes>=24.2.0->prefect) (1.16.0)\n",
      "Requirement already satisfied: cachetools<5.0,>=2.0.0 in c:\\users\\jobiak\\anaconda3\\lib\\site-packages (from google-auth>=1.0.1->kubernetes>=24.2.0->prefect) (4.2.2)\n",
      "Requirement already satisfied: rsa<5,>=3.1.4 in c:\\users\\jobiak\\anaconda3\\lib\\site-packages (from google-auth>=1.0.1->kubernetes>=24.2.0->prefect) (4.7.2)\n",
      "Requirement already satisfied: pyasn1-modules>=0.2.1 in c:\\users\\jobiak\\anaconda3\\lib\\site-packages (from google-auth>=1.0.1->kubernetes>=24.2.0->prefect) (0.2.8)\n",
      "Requirement already satisfied: pyparsing!=3.0.5,>=2.0.2 in c:\\users\\jobiak\\anaconda3\\lib\\site-packages (from packaging>=21.3->prefect) (3.0.4)\n",
      "Requirement already satisfied: pytzdata>=2020.1 in c:\\users\\jobiak\\anaconda3\\lib\\site-packages (from pendulum>=2.1.2->prefect) (2020.1)\n",
      "Requirement already satisfied: pyasn1<0.5.0,>=0.4.6 in c:\\users\\jobiak\\anaconda3\\lib\\site-packages (from pyasn1-modules>=0.2.1->google-auth>=1.0.1->kubernetes>=24.2.0->prefect) (0.4.8)\n",
      "Requirement already satisfied: text-unidecode>=1.3 in c:\\users\\jobiak\\anaconda3\\lib\\site-packages (from python-slugify>=5.0->prefect) (1.3)\n",
      "Requirement already satisfied: charset-normalizer~=2.0.0 in c:\\users\\jobiak\\anaconda3\\lib\\site-packages (from requests->apprise>=1.1.0->prefect) (2.0.4)\n",
      "Requirement already satisfied: markdown-it-py<3.0.0,>=2.2.0 in c:\\users\\jobiak\\anaconda3\\lib\\site-packages (from rich>=11.0->prefect) (2.2.0)\n",
      "Requirement already satisfied: pygments<3.0.0,>=2.13.0 in c:\\users\\jobiak\\anaconda3\\lib\\site-packages (from rich>=11.0->prefect) (2.15.1)\n",
      "Requirement already satisfied: mdurl~=0.1 in c:\\users\\jobiak\\anaconda3\\lib\\site-packages (from markdown-it-py<3.0.0,>=2.2.0->rich>=11.0->prefect) (0.1.2)\n",
      "Requirement already satisfied: greenlet!=0.4.17 in c:\\users\\jobiak\\anaconda3\\lib\\site-packages (from sqlalchemy[asyncio]!=1.4.33,>=1.4.22->prefect) (1.1.1)\n",
      "Requirement already satisfied: oauthlib>=3.0.0 in c:\\users\\jobiak\\anaconda3\\lib\\site-packages (from requests-oauthlib->apprise>=1.1.0->prefect) (3.2.0)\n",
      "Requirement already satisfied: tzdata in c:\\users\\jobiak\\anaconda3\\lib\\site-packages (from tzlocal->dateparser>=1.1.1->prefect) (2023.3)\n",
      "Note: you may need to restart the kernel to use updated packages.\n"
     ]
    }
   ],
   "source": [
    "pip install --upgrade prefect"
   ]
  },
  {
   "cell_type": "code",
   "execution_count": 13,
   "metadata": {},
   "outputs": [
    {
     "ename": "TypeError",
     "evalue": "dataclass_transform() got an unexpected keyword argument 'field_specifiers'",
     "output_type": "error",
     "traceback": [
      "\u001b[1;31m---------------------------------------------------------------------------\u001b[0m",
      "\u001b[1;31mTypeError\u001b[0m                                 Traceback (most recent call last)",
      "Input \u001b[1;32mIn [13]\u001b[0m, in \u001b[0;36m<cell line: 1>\u001b[1;34m()\u001b[0m\n\u001b[1;32m----> 1\u001b[0m \u001b[38;5;28;01mfrom\u001b[39;00m \u001b[38;5;21;01mprefect\u001b[39;00m \u001b[38;5;28;01mimport\u001b[39;00m task\n\u001b[0;32m      2\u001b[0m \u001b[38;5;129m@task\u001b[39m(retries\u001b[38;5;241m=\u001b[39m\u001b[38;5;241m3\u001b[39m, retry_delay_seconds\u001b[38;5;241m=\u001b[39m\u001b[38;5;241m2\u001b[39m, name\u001b[38;5;241m=\u001b[39m\u001b[38;5;124m\"\u001b[39m\u001b[38;5;124mRead taxi data\u001b[39m\u001b[38;5;124m\"\u001b[39m)\n\u001b[0;32m      3\u001b[0m \u001b[38;5;28;01mdef\u001b[39;00m \u001b[38;5;21mread_data\u001b[39m(filename: \u001b[38;5;28mstr\u001b[39m) \u001b[38;5;241m-\u001b[39m\u001b[38;5;241m>\u001b[39m pd\u001b[38;5;241m.\u001b[39mDataFrame:\n\u001b[0;32m      4\u001b[0m     \u001b[38;5;124;03m\"\"\"Read data into DataFrame\"\"\"\u001b[39;00m\n",
      "File \u001b[1;32m~\\anaconda3\\lib\\site-packages\\prefect\\__init__.py:37\u001b[0m, in \u001b[0;36m<module>\u001b[1;34m\u001b[0m\n\u001b[0;32m     24\u001b[0m     warnings\u001b[38;5;241m.\u001b[39mwarn(\n\u001b[0;32m     25\u001b[0m         (\n\u001b[0;32m     26\u001b[0m             \u001b[38;5;124m\"\u001b[39m\u001b[38;5;124mPrefect will drop support for Python 3.7 when it reaches end-of-life on 27\u001b[39m\u001b[38;5;124m\"\u001b[39m\n\u001b[1;32m   (...)\u001b[0m\n\u001b[0;32m     32\u001b[0m         stacklevel\u001b[38;5;241m=\u001b[39m\u001b[38;5;241m2\u001b[39m,\n\u001b[0;32m     33\u001b[0m     )\n\u001b[0;32m     36\u001b[0m \u001b[38;5;66;03m# Import user-facing API\u001b[39;00m\n\u001b[1;32m---> 37\u001b[0m \u001b[38;5;28;01mfrom\u001b[39;00m \u001b[38;5;21;01mprefect\u001b[39;00m\u001b[38;5;21;01m.\u001b[39;00m\u001b[38;5;21;01mstates\u001b[39;00m \u001b[38;5;28;01mimport\u001b[39;00m State\n\u001b[0;32m     38\u001b[0m \u001b[38;5;28;01mfrom\u001b[39;00m \u001b[38;5;21;01mprefect\u001b[39;00m\u001b[38;5;21;01m.\u001b[39;00m\u001b[38;5;21;01mlogging\u001b[39;00m \u001b[38;5;28;01mimport\u001b[39;00m get_run_logger\n\u001b[0;32m     39\u001b[0m \u001b[38;5;28;01mfrom\u001b[39;00m \u001b[38;5;21;01mprefect\u001b[39;00m\u001b[38;5;21;01m.\u001b[39;00m\u001b[38;5;21;01mflows\u001b[39;00m \u001b[38;5;28;01mimport\u001b[39;00m flow, Flow\n",
      "File \u001b[1;32m~\\anaconda3\\lib\\site-packages\\prefect\\states.py:14\u001b[0m, in \u001b[0;36m<module>\u001b[1;34m\u001b[0m\n\u001b[0;32m     11\u001b[0m \u001b[38;5;28;01mimport\u001b[39;00m \u001b[38;5;21;01mpendulum\u001b[39;00m\n\u001b[0;32m     12\u001b[0m \u001b[38;5;28;01mfrom\u001b[39;00m \u001b[38;5;21;01mtyping_extensions\u001b[39;00m \u001b[38;5;28;01mimport\u001b[39;00m TypeGuard\n\u001b[1;32m---> 14\u001b[0m \u001b[38;5;28;01mfrom\u001b[39;00m \u001b[38;5;21;01mprefect\u001b[39;00m\u001b[38;5;21;01m.\u001b[39;00m\u001b[38;5;21;01mclient\u001b[39;00m\u001b[38;5;21;01m.\u001b[39;00m\u001b[38;5;21;01mschemas\u001b[39;00m \u001b[38;5;28;01mimport\u001b[39;00m State \u001b[38;5;28;01mas\u001b[39;00m State\n\u001b[0;32m     15\u001b[0m \u001b[38;5;28;01mfrom\u001b[39;00m \u001b[38;5;21;01mprefect\u001b[39;00m\u001b[38;5;21;01m.\u001b[39;00m\u001b[38;5;21;01mclient\u001b[39;00m\u001b[38;5;21;01m.\u001b[39;00m\u001b[38;5;21;01mschemas\u001b[39;00m \u001b[38;5;28;01mimport\u001b[39;00m StateDetails, StateType\n\u001b[0;32m     16\u001b[0m \u001b[38;5;28;01mfrom\u001b[39;00m \u001b[38;5;21;01mprefect\u001b[39;00m\u001b[38;5;21;01m.\u001b[39;00m\u001b[38;5;21;01mdeprecated\u001b[39;00m\u001b[38;5;21;01m.\u001b[39;00m\u001b[38;5;21;01mdata_documents\u001b[39;00m \u001b[38;5;28;01mimport\u001b[39;00m (\n\u001b[0;32m     17\u001b[0m     DataDocument,\n\u001b[0;32m     18\u001b[0m     result_from_state_with_data_document,\n\u001b[0;32m     19\u001b[0m )\n",
      "File \u001b[1;32m~\\anaconda3\\lib\\site-packages\\prefect\\client\\schemas\\__init__.py:4\u001b[0m, in \u001b[0;36m<module>\u001b[1;34m\u001b[0m\n\u001b[0;32m      1\u001b[0m \u001b[38;5;66;03m# Some objects are exported here for backwards compatibility.\u001b[39;00m\n\u001b[0;32m      2\u001b[0m \u001b[38;5;66;03m# In general, it is recommended to import schemas from their respective modules.\u001b[39;00m\n\u001b[1;32m----> 4\u001b[0m \u001b[38;5;28;01mfrom\u001b[39;00m \u001b[38;5;21;01m.\u001b[39;00m\u001b[38;5;21;01mactions\u001b[39;00m \u001b[38;5;28;01mimport\u001b[39;00m BlockTypeUpdate, StateCreate\n\u001b[0;32m      5\u001b[0m \u001b[38;5;28;01mfrom\u001b[39;00m \u001b[38;5;21;01m.\u001b[39;00m\u001b[38;5;21;01mobjects\u001b[39;00m \u001b[38;5;28;01mimport\u001b[39;00m (\n\u001b[0;32m      6\u001b[0m     DEFAULT_BLOCK_SCHEMA_VERSION,\n\u001b[0;32m      7\u001b[0m     BlockDocument,\n\u001b[1;32m   (...)\u001b[0m\n\u001b[0;32m     19\u001b[0m     Workspace,\n\u001b[0;32m     20\u001b[0m )\n\u001b[0;32m     21\u001b[0m \u001b[38;5;28;01mfrom\u001b[39;00m \u001b[38;5;21;01m.\u001b[39;00m\u001b[38;5;21;01mresponses\u001b[39;00m \u001b[38;5;28;01mimport\u001b[39;00m (\n\u001b[0;32m     22\u001b[0m     OrchestrationResult,\n\u001b[0;32m     23\u001b[0m     SetStateStatus,\n\u001b[1;32m   (...)\u001b[0m\n\u001b[0;32m     26\u001b[0m     StateRejectDetails,\n\u001b[0;32m     27\u001b[0m )\n",
      "File \u001b[1;32m~\\anaconda3\\lib\\site-packages\\prefect\\client\\schemas\\actions.py:7\u001b[0m, in \u001b[0;36m<module>\u001b[1;34m\u001b[0m\n\u001b[0;32m      4\u001b[0m \u001b[38;5;28;01mfrom\u001b[39;00m \u001b[38;5;21;01muuid\u001b[39;00m \u001b[38;5;28;01mimport\u001b[39;00m UUID\n\u001b[0;32m      6\u001b[0m \u001b[38;5;28;01mimport\u001b[39;00m \u001b[38;5;21;01mjsonschema\u001b[39;00m\n\u001b[1;32m----> 7\u001b[0m \u001b[38;5;28;01mfrom\u001b[39;00m \u001b[38;5;21;01mpydantic\u001b[39;00m \u001b[38;5;28;01mimport\u001b[39;00m Field, root_validator, validator\n\u001b[0;32m      9\u001b[0m \u001b[38;5;28;01mimport\u001b[39;00m \u001b[38;5;21;01mprefect\u001b[39;00m\u001b[38;5;21;01m.\u001b[39;00m\u001b[38;5;21;01mclient\u001b[39;00m\u001b[38;5;21;01m.\u001b[39;00m\u001b[38;5;21;01mschemas\u001b[39;00m\u001b[38;5;21;01m.\u001b[39;00m\u001b[38;5;21;01mobjects\u001b[39;00m \u001b[38;5;28;01mas\u001b[39;00m \u001b[38;5;21;01mobjects\u001b[39;00m\n\u001b[0;32m     10\u001b[0m \u001b[38;5;28;01mfrom\u001b[39;00m \u001b[38;5;21;01mprefect\u001b[39;00m\u001b[38;5;21;01m.\u001b[39;00m\u001b[38;5;21;01m_internal\u001b[39;00m\u001b[38;5;21;01m.\u001b[39;00m\u001b[38;5;21;01mcompatibility\u001b[39;00m\u001b[38;5;21;01m.\u001b[39;00m\u001b[38;5;21;01mexperimental\u001b[39;00m \u001b[38;5;28;01mimport\u001b[39;00m experimental_field\n",
      "File \u001b[1;32m~\\anaconda3\\lib\\site-packages\\pydantic\\__init__.py:2\u001b[0m, in \u001b[0;36minit pydantic.__init__\u001b[1;34m()\u001b[0m\n",
      "File \u001b[1;32m~\\anaconda3\\lib\\site-packages\\pydantic\\dataclasses.py:48\u001b[0m, in \u001b[0;36minit pydantic.dataclasses\u001b[1;34m()\u001b[0m\n",
      "File \u001b[1;32m~\\anaconda3\\lib\\site-packages\\pydantic\\main.py:120\u001b[0m, in \u001b[0;36minit pydantic.main\u001b[1;34m()\u001b[0m\n",
      "\u001b[1;31mTypeError\u001b[0m: dataclass_transform() got an unexpected keyword argument 'field_specifiers'"
     ]
    }
   ],
   "source": [
    "from prefect import task\n",
    "@task(retries=3, retry_delay_seconds=2, name=\"Read taxi data\")\n",
    "def read_data(filename: str) -> pd.DataFrame:\n",
    "    \"\"\"Read data into DataFrame\"\"\"\n",
    "    df = pd.read_parquet(filename)\n",
    "\n",
    "    df.lpep_dropoff_datetime = pd.to_datetime(df.lpep_dropoff_datetime)\n",
    "    df.lpep_pickup_datetime = pd.to_datetime(df.lpep_pickup_datetime)\n",
    "\n",
    "    df[\"duration\"] = df.lpep_dropoff_datetime - df.lpep_pickup_datetime\n",
    "    df.duration = df.duration.apply(lambda td: td.total_seconds() / 60)\n",
    "\n",
    "    df = df[(df.duration >= 1) & (df.duration <= 60)]\n",
    "\n",
    "    categorical = [\"PULocationID\", \"DOLocationID\"]\n",
    "    df[categorical] = df[categorical].astype(str)\n",
    "\n",
    "    return df"
   ]
  },
  {
   "cell_type": "markdown",
   "metadata": {},
   "source": [
    "## Q2 Cron\n",
    "\n",
    "Cron is a common scheduling specification for workflows.\n",
    "\n",
    "Using the flow in `orchestrate.py`, create a deployment. Schedule your deployment to run on the third day of every month at 9am UTC. What's the cron schedule for that?\n",
    "\n",
    "* (X) `0 9 3 * *`\n",
    "* ( ) `0 0 9 3 *`\n",
    "* ( ) `9 * 3 0 *`\n",
    "* ( ) `* * 9 3 0`"
   ]
  },
  {
   "cell_type": "code",
   "execution_count": 17,
   "metadata": {},
   "outputs": [
    {
     "name": "stderr",
     "output_type": "stream",
     "text": [
      "Traceback (most recent call last):\n",
      "  File \"C:\\Users\\JOBIAK\\Desktop\\mlops_zoomcamp\\Week3_Homework\\orchestrate.py\", line 38, in <module>\n",
      "    scipy.sparse._csr.csr_matrix,\n",
      "AttributeError: module 'scipy.sparse' has no attribute '_csr'\n"
     ]
    }
   ],
   "source": [
    "!python orchestrate.py"
   ]
  },
  {
   "cell_type": "code",
   "execution_count": 20,
   "metadata": {},
   "outputs": [
    {
     "name": "stdout",
     "output_type": "stream",
     "text": [
      "Script at 'orchestrate.py' encountered an exception: AttributeError(\"module \n",
      "'scipy.sparse' has no attribute '_csr'\")\n"
     ]
    }
   ],
   "source": [
    "!prefect deployment build --name taxi_homework orchestrate.py:main_flow"
   ]
  },
  {
   "cell_type": "code",
   "execution_count": 21,
   "metadata": {},
   "outputs": [
    {
     "name": "stdout",
     "output_type": "stream",
     "text": [
      "'main_flow-deployment.yaml' did not conform to deployment spec: \n",
      "FileNotFoundError(2, 'No such file or directory')\n"
     ]
    }
   ],
   "source": [
    "!prefect deployment apply main_flow-deployment.yaml"
   ]
  },
  {
   "cell_type": "markdown",
   "metadata": {},
   "source": [
    "## Q3 RMSE\n",
    "\n",
    "Download the January 2023 Green Taxi data and use it for your training data. Download the February 2023 Green Taxi data and use it for your validation data.\n",
    "\n",
    "Make sure you upload the data to GitHub so it is available for your deployment.\n",
    "\n",
    "Create a custom flow run of your deployment from the UI. Choose Custom Run for the flow and enter the file path as a string on the JSON tab under Parameters.\n",
    "\n",
    "Make sure you have a worker running and polling the correct work pool.\n",
    "\n",
    "View the results in the UI.\n",
    "\n",
    "What's the final RMSE to five decimal places?\n",
    "\n",
    "* ( ) 6.67433\n",
    "* (X) 5.19931\n",
    "* ( ) 8.89443\n",
    "* ( ) 9.12250"
   ]
  },
  {
   "cell_type": "markdown",
   "metadata": {},
   "source": [
    "## Q4 RMSE (Markdown Artifact)\n",
    "\n",
    "Download the February 2023 Green Taxi data and use it for your training data. Download the March 2023 Green Taxi data and use it for your validation data.\n",
    "\n",
    "Create a Prefect Markdown artifact that displays the RMSE for the validation data. Create a deployment and run it.\n",
    "\n",
    "What's the RMSE in the artifact to two decimal places?\n",
    "\n",
    "* ( ) 9.71\n",
    "* ( ) 12.02\n",
    "* ( ) 15.33\n",
    "* (X) 5.37"
   ]
  },
  {
   "cell_type": "markdown",
   "metadata": {},
   "source": [
    "## Q5 Emails\n",
    "\n",
    "It's often helpful to be notified when something with your dataflow doesn't work as planned. Create an email notification for to use with your own Prefect server instance. In your virtual environment, install the prefect-email integration with\n",
    "\n",
    "```bash\n",
    "pip install prefect-email\n",
    "```\n",
    "\n",
    "Make sure you are connected to a running Prefect server instance through your Prefect profile. See the docs if needed: [https://docs.prefect.io/latest/concepts/settings/#configuration-profiles](https://docs.prefect.io/latest/concepts/settings/#configuration-profiles)\n",
    "\n",
    "Register the new block with your server with\n",
    "\n",
    "```bash\n",
    "prefect block register -m prefect_email\n",
    "```\n",
    "\n",
    "Remember that a block is a Prefect class with a nice UI form interface. Block objects live on the server and can be created and accessed in your Python code.\n",
    "\n",
    "See the docs for how to authenticate by saving your email credentials to a block and note that you will need an App Password to send emails with Gmail and other services. Follow the instructions in the docs.\n",
    "\n",
    "Create and save an `EmailServerCredentials` notification block. Use the credentials block to send an email.\n",
    "\n",
    "Test the notification functionality by running a deployment.\n",
    "\n",
    "What is the name of the pre-built prefect-email task function?\n",
    "\n",
    "* ( ) `send_email_message`\n",
    "* (X) `email_send_message`\n",
    "* ( ) `send_email`\n",
    "* ( ) `send_message`"
   ]
  },
  {
   "cell_type": "code",
   "execution_count": null,
   "metadata": {},
   "outputs": [],
   "source": [
    "!pipenv install prefect-email"
   ]
  },
  {
   "cell_type": "code",
   "execution_count": null,
   "metadata": {},
   "outputs": [],
   "source": [
    "!prefect block register -m prefect_email"
   ]
  },
  {
   "cell_type": "markdown",
   "metadata": {},
   "source": [
    "## Q6 Prefect Cloud\n",
    "\n",
    "The hosted Prefect Cloud lets you avoid running your own Prefect server and has automations that allow you to get notifications when certain events occur on don't occur.\n",
    "\n",
    "Create a free forever Prefect Cloud account at app.prefect.cloud and connect your workspace to it following the steps in the UI when you sign up.\n",
    "\n",
    "Set up an Automation from the UI that will send yourself an email when a flow run completes. Run one of your existing deployments and check your email to see the notification.\n",
    "\n",
    "Make sure your active profile is pointing toward Prefect Cloud and make sure you have a worker active.\n",
    "\n",
    "What is the name of the second step in the Automation creation process?\n",
    "\n",
    "* ( ) Details\n",
    "* ( ) Trigger\n",
    "* (X) Actions\n",
    "* ( ) The end"
   ]
  },
  {
   "cell_type": "markdown",
   "metadata": {},
   "source": []
  }
 ],
 "metadata": {
  "kernelspec": {
   "display_name": "Python 3 (ipykernel)",
   "language": "python",
   "name": "python3"
  },
  "language_info": {
   "codemirror_mode": {
    "name": "ipython",
    "version": 3
   },
   "file_extension": ".py",
   "mimetype": "text/x-python",
   "name": "python",
   "nbconvert_exporter": "python",
   "pygments_lexer": "ipython3",
   "version": "3.9.12"
  }
 },
 "nbformat": 4,
 "nbformat_minor": 2
}
