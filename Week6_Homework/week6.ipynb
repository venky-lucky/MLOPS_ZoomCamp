{
 "cells": [
  {
   "cell_type": "markdown",
   "id": "f56759da-9e5d-44b5-91b0-e470a564da37",
   "metadata": {},
   "source": [
    "#### Q1. Now we need to create the \"main\" block from which we'll invoke the main function. How does the if statement that we use for this looks like?\n",
    "\n",
    "if __name__ == \"__main__\":\n",
    "    year = int(sys.argv[1])\n",
    "    month = int(sys.argv[2])\n",
    "    main(year=year, month=month)"
   ]
  },
  {
   "cell_type": "code",
   "execution_count": 2,
   "id": "0103b991-14cf-4954-a675-bac3740df8ee",
   "metadata": {},
   "outputs": [
    {
     "name": "stdout",
     "output_type": "stream",
     "text": [
      "predicted mean duration: 12.513422116701408\n"
     ]
    }
   ],
   "source": [
    "!python ./scripts/batch.py 2022 02"
   ]
  },
  {
   "cell_type": "markdown",
   "id": "f4b26974-e454-4010-a3b9-7020f36ed637",
   "metadata": {},
   "source": [
    "#### Q2. The second file will be __init__.py. So, why do we need this second file?\n",
    "Both of the above options are correct"
   ]
  },
  {
   "cell_type": "markdown",
   "id": "b3288ae9-5efc-4e36-b537-5cac951cd3c8",
   "metadata": {},
   "source": [
    "#### Q3. How many rows should be there in the expected dataframe?\n",
    "3"
   ]
  },
  {
   "cell_type": "code",
   "execution_count": 31,
   "id": "538bd307-a6e1-484b-a98b-2c493e1a0162",
   "metadata": {},
   "outputs": [
    {
     "name": "stdout",
     "output_type": "stream",
     "text": [
      "\u001b[1m============================= test session starts ==============================\u001b[0m\n",
      "platform linux -- Python 3.10.11, pytest-7.4.0, pluggy-1.0.0\n",
      "rootdir: /home/jovyan/work\n",
      "plugins: anyio-3.6.2\n",
      "collected 1 item                                                               \u001b[0m\n",
      "\n",
      "tests/test_batch.py \u001b[32m.\u001b[0m\u001b[32m                                                    [100%]\u001b[0m\n",
      "\n",
      "\u001b[32m============================== \u001b[32m\u001b[1m1 passed\u001b[0m\u001b[32m in 0.25s\u001b[0m\u001b[32m ===============================\u001b[0m\n"
     ]
    }
   ],
   "source": [
    "!pytest"
   ]
  },
  {
   "cell_type": "markdown",
   "id": "bc373dd0-1139-434b-9fab-9e2b9ac303f3",
   "metadata": {},
   "source": [
    "#### Q4. In both cases we should adjust commands for localstack. Which option do we need to use for such purposes?\n",
    "--endpoint-url OR aws --endpoint-url=https://localstack:4566 mb s3://nyc-duration\n",
    "\n",
    "In case of addition of AWS_ENDPOINT_URL pointing to the https://localstack:4566 the --entrypoint-url flag is not needed."
   ]
  },
  {
   "cell_type": "markdown",
   "id": "8077355c-da07-46a6-9813-a8f695595879",
   "metadata": {},
   "source": [
    "#### Q5. What's the size of the file?\n",
    "3667"
   ]
  },
  {
   "cell_type": "code",
   "execution_count": 16,
   "id": "974dfc20-33ef-4207-a59f-6c72b59e5840",
   "metadata": {},
   "outputs": [],
   "source": [
    "!python ./scripts/integration_test.py"
   ]
  },
  {
   "cell_type": "markdown",
   "id": "521a337d-c8fb-44bd-9fa4-a3b294042012",
   "metadata": {},
   "source": [
    "#### Q6. What's the sum of predicted durations for the test dataframe?\n",
    "31.51"
   ]
  },
  {
   "cell_type": "code",
   "execution_count": 23,
   "id": "8bfaf6d3-7d6c-448e-8862-7d139d55ab74",
   "metadata": {},
   "outputs": [
    {
     "name": "stdout",
     "output_type": "stream",
     "text": [
      "predicted mean duration: 10.502483457575869\n",
      "duration_sum: 31.507450372727607\n"
     ]
    }
   ],
   "source": [
    "!python ./scripts/batch_fake.py ./data/integration_file.parquet"
   ]
  },
  {
   "cell_type": "code",
   "execution_count": null,
   "id": "5c03aeb6-a020-4489-8fac-eecfa6394cdb",
   "metadata": {},
   "outputs": [],
   "source": []
  }
 ],
 "metadata": {
  "kernelspec": {
   "display_name": "Python 3 (ipykernel)",
   "language": "python",
   "name": "python3"
  },
  "language_info": {
   "codemirror_mode": {
    "name": "ipython",
    "version": 3
   },
   "file_extension": ".py",
   "mimetype": "text/x-python",
   "name": "python",
   "nbconvert_exporter": "python",
   "pygments_lexer": "ipython3",
   "version": "3.10.11"
  }
 },
 "nbformat": 4,
 "nbformat_minor": 5
}
